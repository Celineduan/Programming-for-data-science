{
 "cells": [
  {
   "cell_type": "markdown",
   "metadata": {
    "id": "65pziwiP0us6"
   },
   "source": [
    "### CDS NYU\n",
    "### DS-GA 1007 | Programming for Data Science\n",
    "\n",
    "---\n",
    "\n",
    "# HW 02\n",
    "### Due Date: October 9, 2024, 7PM \n"
   ]
  },
  {
   "cell_type": "markdown",
   "metadata": {
    "id": "6bFn1r8M0utA"
   },
   "source": [
    "Firstname: Conghui\n",
    "\n",
    "Lastname: Duan\n",
    "\n",
    "E-mail: cd3792@nyu.edu\n",
    "\n",
    "\n",
    "--- \n",
    "\n",
    "Enter your solutions below,  and submit this notebook"
   ]
  },
  {
   "cell_type": "markdown",
   "metadata": {
    "id": "06NcjKxz0utB"
   },
   "source": [
    "### Problem 01 (10 points):\n",
    "\n",
    "1. 1 (5 points) Write a function that iteratively calculates the square $x^2$ of a positive integer number $x$. Print its worst-case complexity using the big-O notation. Estimate the average running time of this function when applied to $x=100$\n",
    "\n",
    "\n",
    "1. 2 (5 points) Write a function that recursively calculates the square $x^2$ of a positive integer number $x$. Print its worst-case complexity using the big-O notation. Estimate the average running time of this function when applied to $x=100$\n"
   ]
  },
  {
   "cell_type": "code",
   "execution_count": 69,
   "metadata": {},
   "outputs": [
    {
     "name": "stdout",
     "output_type": "stream",
     "text": [
      "10000\n",
      "Run time: 0.0005044937133789062 seconds\n",
      "263 μs ± 2.55 μs per loop (mean ± std. dev. of 7 runs, 1,000 loops each)\n",
      "CPU times: total: 0 ns\n",
      "Wall time: 0 ns\n"
     ]
    },
    {
     "data": {
      "text/plain": [
       "10000"
      ]
     },
     "execution_count": 69,
     "metadata": {},
     "output_type": "execute_result"
    }
   ],
   "source": [
    "def square(x):\n",
    "    x1= 0    # initialization\n",
    "    for i in range(x):  # Outer loop: run x time , whithout using i inside the loop\n",
    "        for j in range(x): # Inner loop: runs another x times, whithout using j inside the loop\n",
    "            x1 += 1   # for each iteration of inner loop, incremented by 1 \n",
    "    return x1\n",
    "print(square(100))\n",
    "# measure the execution time to test the efficiency\n",
    "import time\n",
    "t0 = time.time()\n",
    "square(100)  \n",
    "dt = time.time()-t0\n",
    "print(f\"Run time: {dt} seconds\")\n",
    "%timeit square(100)\n",
    "%time square(100)  #  Magic commands measures execution time for a single run\n"
   ]
  },
  {
   "cell_type": "code",
   "execution_count": 70,
   "metadata": {},
   "outputs": [
    {
     "name": "stdout",
     "output_type": "stream",
     "text": [
      "10000\n",
      "Run time: 0.0 seconds\n",
      "7.17 μs ± 53.3 ns per loop (mean ± std. dev. of 7 runs, 100,000 loops each)\n",
      "CPU times: total: 0 ns\n",
      "Wall time: 0 ns\n"
     ]
    },
    {
     "data": {
      "text/plain": [
       "10000"
      ]
     },
     "execution_count": 70,
     "metadata": {},
     "output_type": "execute_result"
    }
   ],
   "source": [
    "def square_recursive(x):\n",
    "    if x == 0:              # Base Case: When x = 0, stops further recursion\n",
    "        return x\n",
    "    else:\n",
    "        x2 = square_recursive(x-1)+2*x-1  # Recursive step: Build up the square of x by computing the square of x - 1 and adding 2 * x - 1\n",
    "        return(x2)\n",
    "print(square_recursive(100))\n",
    "# measure the execution time to test the efficiency\n",
    "import time\n",
    "t0 = time.time()\n",
    "square_recursive(100)\n",
    "dt = time.time()-t0\n",
    "print(f\"Run time: {dt} seconds\")\n",
    "%timeit square_recursive(100)\n",
    "%time square_recursive(100)"
   ]
  },
  {
   "cell_type": "markdown",
   "metadata": {
    "id": "f_WEUxHe0utC"
   },
   "source": [
    "### Problem 02 (40 points):\n",
    "\n",
    "2.1 (5 points) Write a function that performs a selection sort (Function from the lecture is accepted)\n",
    "\n",
    "2.2 (5 points) Write a function that performs a bubble sort (Function from the lecture is accepted)\n",
    "\n",
    "2.3 (5 points) Write a function that performs a merge sort (Function from the lecture is accepted)\n",
    "\n",
    "2.4 (10 points) The file `ComedyMovies.json` contains a dictionary with the top 100 comedy movies of the 21st centruy (source: IMDb). The keys are the movie names and the values are the durations (in minutes) of the movies. Read the file and load it into a dictionary name `movies`. Create a list l containing the durations of the 100 movies. Sort this list using each of the functions from 2.1, 2.2, and 2.3 \n",
    "\n",
    "2.5 (10 points) Estimate the average running time of the functions from 2.1, 2.2, and 2.3 when applied to the list l\n",
    "\n",
    "2.6 (5 points) The following snippet: `sorted(movies.items(), key=lambda x: x[1])` leverages the list built-in method `sorted` to sort the keys (names of movies) of the dictionary `movies` based on the its values (durations of movies). Estimate the average running time of this built-in method when applied to `movies`\n"
   ]
  },
  {
   "cell_type": "code",
   "execution_count": 10,
   "metadata": {
    "id": "MjpDQ90j0utD"
   },
   "outputs": [],
   "source": [
    "# To open the json file and load it into a dictionary data structure:\n",
    "import json\n",
    "d = json.load(open('ComedyMovies.json'))\n",
    "def selection_sort(L):\n",
    "    for i in range(len(L)):\n",
    "        min_i = i\n",
    "        for j in range(i+1, len(L)):\n",
    "            if L[j]< L[min_i]:\n",
    "                min_i = j\n",
    "        L[i],L[min_i] = L[min_i], L[i]"
   ]
  },
  {
   "cell_type": "code",
   "execution_count": 11,
   "metadata": {},
   "outputs": [],
   "source": [
    "import json\n",
    "d = json.load(open('ComedyMovies.json'))\n",
    "def bubble_sort(L):\n",
    "    swap = True\n",
    "    while swap:\n",
    "        swap = False\n",
    "        for i in range(len(L)):\n",
    "            if L[i]> L[i+1]:\n",
    "                swap = True\n",
    "                L[i], L[i+1] = L[i+1], L[i]"
   ]
  },
  {
   "cell_type": "code",
   "execution_count": 39,
   "metadata": {},
   "outputs": [],
   "source": [
    "import json\n",
    "d = json.load(open('ComedyMovies.json'))\n",
    "def merge_sort(L,l,h):\n",
    "    if h ==l:\n",
    "        return [L[l-1]]\n",
    "    else:\n",
    "        mid = (l+h)//2\n",
    "        left =merge_sort(L,l,mid)\n",
    "        right = merge_sort(L,mid+1,h)\n",
    "        return merge(left, right)\n",
    "def merge(left, right):\n",
    "    result = []; i,j = 0,0\n",
    "    while i < len(left) and j < len(right):\n",
    "        if left[i] < right[j]:\n",
    "            result.append(left[i])\n",
    "            i += 1\n",
    "        else:\n",
    "            result.append(right[j])\n",
    "            j += 1\n",
    "    while (i < len(left)):\n",
    "        result.append(left[i])\n",
    "        i += 1\n",
    "    while (j < len(right)):\n",
    "        result.append(right[j])\n",
    "        j += 1\n",
    "    return result\n",
    "\n"
   ]
  },
  {
   "cell_type": "code",
   "execution_count": 82,
   "metadata": {},
   "outputs": [
    {
     "name": "stdout",
     "output_type": "stream",
     "text": [
      "[81, 83, 83, 84, 85, 85, 85, 86, 86, 86, 88, 88, 88, 88, 89, 90, 90, 91, 92, 92, 92, 93, 93, 93, 94, 94, 94, 95, 96, 96, 96, 97, 98, 98, 98, 98, 99, 99, 99, 99, 100, 100, 100, 101, 101, 101, 102, 102, 103, 103, 103, 103, 104, 104, 104, 105, 105, 106, 107, 107, 107, 107, 108, 108, 108, 108, 109, 109, 109, 110, 110, 110, 111, 111, 112, 112, 112, 112, 113, 113, 113, 113, 115, 115, 116, 116, 117, 117, 117, 118, 118, 119, 119, 120, 121, 122, 123, 125, 129, 129]\n",
      "Run time: 0.0008666515350341797 seconds\n"
     ]
    }
   ],
   "source": [
    "import json\n",
    "import time\n",
    "movies={}\n",
    "L=[]\n",
    "movies= json.load(open('ComedyMovies.json'))\n",
    "for value in movies.values():\n",
    "    L.append(value)\n",
    "def selection_sort(L):\n",
    "    for i in range(len(L)):\n",
    "        min_i = i\n",
    "        for j in range(i+1, len(L)):\n",
    "            if L[j]< L[min_i]:\n",
    "                min_i = j\n",
    "        L[i],L[min_i] = L[min_i], L[i]\n",
    "t0 = time.time()\n",
    "selection_sort(L)\n",
    "print(L)\n",
    "# measure the execution time to test the efficiency\n",
    "dt = time.time()-t0\n",
    "print(f\"Run time: {dt} seconds\")\n"
   ]
  },
  {
   "cell_type": "code",
   "execution_count": 81,
   "metadata": {},
   "outputs": [
    {
     "name": "stdout",
     "output_type": "stream",
     "text": [
      "[81, 83, 83, 84, 85, 85, 85, 86, 86, 86, 88, 88, 88, 88, 89, 90, 90, 91, 92, 92, 92, 93, 93, 93, 94, 94, 94, 95, 96, 96, 96, 97, 98, 98, 98, 98, 99, 99, 99, 99, 100, 100, 100, 101, 101, 101, 102, 102, 103, 103, 103, 103, 104, 104, 104, 105, 105, 106, 107, 107, 107, 107, 108, 108, 108, 108, 109, 109, 109, 110, 110, 110, 111, 111, 112, 112, 112, 112, 113, 113, 113, 113, 115, 115, 116, 116, 117, 117, 117, 118, 118, 119, 119, 120, 121, 122, 123, 125, 129, 129]\n",
      "Run time: 0.0008916854858398438 seconds\n"
     ]
    }
   ],
   "source": [
    "import json\n",
    "import time\n",
    "movies={}\n",
    "L=[]\n",
    "movies= json.load(open('ComedyMovies.json'))\n",
    "for value in movies.values():\n",
    "    L.append(value)\n",
    "def bubble_sort(L):\n",
    "    swap = True\n",
    "    while swap:\n",
    "        swap = False\n",
    "        for i in range(len(L)-1):\n",
    "            if L[i]> L[i+1]:\n",
    "                swap = True\n",
    "                L[i], L[i+1] = L[i+1], L[i]\n",
    "t0 = time.time()\n",
    "bubble_sort(L)\n",
    "print(L)\n",
    "# measure the execution time to test the efficiency\n",
    "dt = time.time()-t0\n",
    "print(f\"Run time: {dt} seconds\")"
   ]
  },
  {
   "cell_type": "code",
   "execution_count": 80,
   "metadata": {},
   "outputs": [
    {
     "name": "stdout",
     "output_type": "stream",
     "text": [
      "[81, 83, 83, 84, 85, 85, 85, 86, 86, 86, 88, 88, 88, 88, 89, 90, 90, 91, 92, 92, 92, 93, 93, 93, 94, 94, 94, 95, 96, 96, 96, 97, 98, 98, 98, 98, 99, 99, 99, 99, 100, 100, 100, 101, 101, 101, 102, 102, 103, 103, 103, 103, 104, 104, 104, 105, 105, 106, 107, 107, 107, 107, 108, 108, 108, 108, 109, 109, 109, 110, 110, 110, 111, 111, 112, 112, 112, 112, 113, 113, 113, 113, 115, 115, 116, 116, 117, 117, 117, 118, 118, 119, 119, 120, 121, 122, 123, 125, 129, 129]\n",
      "Run time: 0.00021147727966308594 seconds\n"
     ]
    }
   ],
   "source": [
    "import json\n",
    "import time\n",
    "movies={}\n",
    "L=[]\n",
    "movies= json.load(open('ComedyMovies.json'))\n",
    "for value in movies.values():\n",
    "    L.append(value)\n",
    "def merge(left, right):\n",
    "    result = []\n",
    "    i,j = 0,0\n",
    "    while i < len(left) and j < len(right):\n",
    "        if left[i] < right[j]:\n",
    "            result.append(left[i])\n",
    "            i += 1\n",
    "        else:\n",
    "            result.append(right[j])\n",
    "            j += 1\n",
    "    while i < len(left):\n",
    "        result.append(left[i])\n",
    "        i += 1\n",
    "    while j < len(right):\n",
    "        result.append(right[j])\n",
    "        j += 1\n",
    "    return result\n",
    "def merge_sort(L,l,h):\n",
    "    if h ==l:\n",
    "        return [L[l-1]]\n",
    "    else:\n",
    "        mid = (l+h)//2\n",
    "        left = merge_sort(L,l,mid)\n",
    "        right = merge_sort(L,mid+1,h)\n",
    "        return merge(left,right)\n",
    "t0 = time.time()\n",
    "L = merge_sort(L,1,100)\n",
    "print(L)\n",
    "# measure the execution time to test the efficiency\n",
    "dt = time.time()-t0\n",
    "print(f\"Run time: {dt} seconds\")\n",
    "    "
   ]
  },
  {
   "cell_type": "code",
   "execution_count": 79,
   "metadata": {},
   "outputs": [
    {
     "name": "stdout",
     "output_type": "stream",
     "text": [
      "Run time: 0.0010044574737548828 seconds\n"
     ]
    }
   ],
   "source": [
    "import json\n",
    "import time\n",
    "movies={}\n",
    "movies= json.load(open('ComedyMovies.json'))\n",
    "t0 = time.time()\n",
    "sorted_movie=sorted(movies.items(), key = lambda x: x[1])\n",
    "# measure the execution time to test the efficiency\n",
    "dt = time.time()-t0\n",
    "print(f\"Run time: {dt} seconds\")"
   ]
  },
  {
   "cell_type": "markdown",
   "metadata": {
    "id": "7w6q-JUs0utF"
   },
   "source": [
    "### Problem 03 (20 points)"
   ]
  },
  {
   "cell_type": "markdown",
   "metadata": {
    "id": "26CIeVWJ0utG"
   },
   "source": [
    "Using Linux commands (Lecture 4, Lab 5), write commands to:\n",
    "\n",
    "3.1 (5 points) Type a single command which can replace all occurences of the word ```ATOM``` by the word ```OBJECT``` in the file ```ascorbic-acid.pdb```\n",
    "\n",
    "3.2 (5 points) Loop over an index i ranging from 1 to 5, and at every iteration of the loop create a folder called ```f$i``` (that is, create five folders called f1, f2, f3, f4 and f5) \n",
    "\n",
    "3.3 (10 point) Copy all files in current directory that end with ```.pdb``` to the folder f2, then go to the directory f2 and display its content.  Finally, move the file ```ascorbic-acid.pdb``` one folder up, go back one folder up, and delete all folders that start with a ```f```\n"
   ]
  },
  {
   "cell_type": "code",
   "execution_count": 3,
   "metadata": {},
   "outputs": [
    {
     "name": "stderr",
     "output_type": "stream",
     "text": [
      "'sed' �����ڲ����ⲿ���Ҳ���ǿ����еĳ���\n",
      "���������ļ���\n"
     ]
    }
   ],
   "source": [
    "!sed s/ATOM/OBJECT/g ascorbic-acid.pdb "
   ]
  },
  {
   "cell_type": "code",
   "execution_count": 2,
   "metadata": {},
   "outputs": [
    {
     "name": "stderr",
     "output_type": "stream",
     "text": [
      "��ʱ��Ӧ�� i��\n"
     ]
    }
   ],
   "source": [
    "!for i in 1 2 3 4 5; do mkdirf$i; done"
   ]
  },
  {
   "cell_type": "code",
   "execution_count": 7,
   "metadata": {},
   "outputs": [
    {
     "name": "stderr",
     "output_type": "stream",
     "text": [
      "'cp' �����ڲ����ⲿ���Ҳ���ǿ����еĳ���\n",
      "���������ļ���\n"
     ]
    },
    {
     "name": "stderr",
     "output_type": "stream",
     "text": [
      "ϵͳ�Ҳ���ָ����·����\n",
      "'ls' �����ڲ����ⲿ���Ҳ���ǿ����еĳ���\n",
      "���������ļ���\n",
      "'mv' �����ڲ����ⲿ���Ҳ���ǿ����еĳ���\n",
      "���������ļ���\n",
      "'rm' �����ڲ����ⲿ���Ҳ���ǿ����еĳ���\n",
      "���������ļ���\n"
     ]
    }
   ],
   "source": [
    "!cp *.pdb f2/\n",
    "!cd f2\n",
    "!ls\n",
    "!mv ascorbic-acid.pdb ..\n",
    "!cd ..\n",
    "!rm -r f*\n"
   ]
  },
  {
   "cell_type": "markdown",
   "metadata": {
    "id": "9xZRFjKL0utI"
   },
   "source": [
    "\n",
    "### Problem 04 (30 points)\n"
   ]
  },
  {
   "cell_type": "markdown",
   "metadata": {
    "id": "0Z6H54jM0utJ"
   },
   "source": [
    "The file `nba2020.csv` contains the schedules and information of the NBA games for 2020. Using only Linux commands (Lecture 4, Lab 5), write programs which will display:\n",
    "   \n",
    "4.1 (5 point) The count of all lines having the string ```'New York Knicks'``` in it\n",
    "   \n",
    "4.2 (10 points) A unique list of NBA teams provided in the file, sorted in alphabetic order; (you can use either the column \"Visitor\" or the column \"Home\"), see hint provided below\n",
    "\n",
    "4.3 (5 points) The number of those NBA teams\n",
    "\n",
    "4.4 (10 points) A unique list of the `start` time provided in the file when the NBA matches were played, sorted in numerical order\n"
   ]
  },
  {
   "cell_type": "markdown",
   "metadata": {
    "id": "S4OwNh5p0utJ"
   },
   "source": [
    "**Hint:** For problems 4.2, 4.3 and 4.4. use a series of piped commands, including the command ```cut``` to select the relevant column, as seen in class and lab \n",
    "  "
   ]
  },
  {
   "cell_type": "code",
   "execution_count": 9,
   "metadata": {},
   "outputs": [
    {
     "name": "stderr",
     "output_type": "stream",
     "text": [
      "'grep' �����ڲ����ⲿ���Ҳ���ǿ����еĳ���\n",
      "���������ļ���\n"
     ]
    }
   ],
   "source": [
    "!grep -i 'New York Knicks' $nba2020.csv | wc -l"
   ]
  },
  {
   "cell_type": "code",
   "execution_count": 12,
   "metadata": {},
   "outputs": [
    {
     "name": "stderr",
     "output_type": "stream",
     "text": [
      "'cut' �����ڲ����ⲿ���Ҳ���ǿ����еĳ���\n",
      "���������ļ���\n"
     ]
    }
   ],
   "source": [
    "!cut -d \",\" -f 3 nba2020.csv | sort | uniq"
   ]
  },
  {
   "cell_type": "code",
   "execution_count": 13,
   "metadata": {},
   "outputs": [
    {
     "name": "stderr",
     "output_type": "stream",
     "text": [
      "'cut' �����ڲ����ⲿ���Ҳ���ǿ����еĳ���\n",
      "���������ļ���\n"
     ]
    }
   ],
   "source": [
    "!cut -d \",\" -f 3 nba2020.csv | sort | uniq | wc -l"
   ]
  },
  {
   "cell_type": "code",
   "execution_count": 14,
   "metadata": {},
   "outputs": [
    {
     "name": "stderr",
     "output_type": "stream",
     "text": [
      "'cut' �����ڲ����ⲿ���Ҳ���ǿ����еĳ���\n",
      "���������ļ���\n"
     ]
    }
   ],
   "source": [
    "!cut -d \",\" -f 2 nba2020.csv | sort | uniq"
   ]
  }
 ],
 "metadata": {
  "colab": {
   "collapsed_sections": [],
   "provenance": []
  },
  "kernelspec": {
   "display_name": "base",
   "language": "python",
   "name": "python3"
  },
  "language_info": {
   "codemirror_mode": {
    "name": "ipython",
    "version": 3
   },
   "file_extension": ".py",
   "mimetype": "text/x-python",
   "name": "python",
   "nbconvert_exporter": "python",
   "pygments_lexer": "ipython3",
   "version": "3.12.4"
  }
 },
 "nbformat": 4,
 "nbformat_minor": 1
}
