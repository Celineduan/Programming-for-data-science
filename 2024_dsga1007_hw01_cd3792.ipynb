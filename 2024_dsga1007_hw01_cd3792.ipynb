{
 "cells": [
  {
   "cell_type": "markdown",
   "metadata": {
    "id": "vf94voENgITf"
   },
   "source": [
    "### CDS NYU\n",
    "### DS-GA 1007 | Programming for Data Science\n",
    "\n",
    "---\n",
    "\n",
    "# HW 01\n",
    "### Due Date: September 25, 2024, 7PM \n"
   ]
  },
  {
   "cell_type": "markdown",
   "metadata": {
    "id": "N2cd1qifgITk"
   },
   "source": [
    "Firstname: Conghui\n",
    "\n",
    "Lastname: Duan\n",
    "\n",
    "E-mail: cd3792@nyu.edu\n",
    "\n",
    "\n",
    "--- \n",
    "\n",
    "Enter your solutions below,  and submit this notebook"
   ]
  },
  {
   "cell_type": "markdown",
   "metadata": {
    "id": "6KbPs8TagITl"
   },
   "source": [
    "### Problem 01 (10 points):\n",
    "\n",
    "1.1 (5 points) Write a function that iteratively calculates factorial $n!$ of an integer $n \\geq 0$, where $n!=1 \\cdot 2 \\cdot \\dots \\cdot n$. Evaluate the function for $n=10$.\n",
    "\n",
    "\n",
    "1.2 (5 points) Write a function that recursively calculates factorial $n!$ of an integer $n \\geq 0$, where $n!=1 \\cdot 2 \\cdot \\dots \\cdot n$. Evaluate the function for $n=10$.\n"
   ]
  },
  {
   "cell_type": "markdown",
   "metadata": {},
   "source": [
    "### Solution 01"
   ]
  },
  {
   "cell_type": "code",
   "execution_count": 4,
   "metadata": {},
   "outputs": [
    {
     "name": "stdout",
     "output_type": "stream",
     "text": [
      "The result of 10 is 3628800\n"
     ]
    }
   ],
   "source": [
    "# Please enter your solution here \n",
    "# You can create as many new cells as you need\n",
    "def iterative_factorial():\n",
    "    res =1\n",
    "    if n ==0 or n==1:\n",
    "        res = 1\n",
    "    else:\n",
    "        for i in range(1,n+1):\n",
    "            res *=i\n",
    "    print (f\"The result of {n} is {res}\")\n",
    "n=10\n",
    "iterative_factorial()"
   ]
  },
  {
   "cell_type": "code",
   "execution_count": 9,
   "metadata": {},
   "outputs": [
    {
     "name": "stdout",
     "output_type": "stream",
     "text": [
      "The result of 10 is 3628800\n"
     ]
    }
   ],
   "source": [
    "def recursive_factorial(n):\n",
    "    if n ==0 or n==1:\n",
    "        return 1\n",
    "    else:\n",
    "        return n*recursive_factorial(n-1)\n",
    "n=10\n",
    "res = recursive_factorial(n)\n",
    "print (f\"The result of {n} is {res}\")"
   ]
  },
  {
   "cell_type": "markdown",
   "metadata": {
    "id": "0czGUiabgITl"
   },
   "source": [
    "### Problem 02 (25 points):\n",
    "\n",
    "2.1 (10 points) Write a function that iteratively calculates the cumulative sum $\\sum_{x=1}^{n} x$ of an integer $n \\geq 0$, , where $\\sum_{x=1}^{n} x = 1 + 2 + \\dots + n$. Evaluate the function for $n = 10$.\n",
    "\n",
    "\n",
    "2.2 (10 points) Write a function that recursively calculates the cumulative sum $\\sum_{x=1}^{n} x$ of an integer $n \\geq 0$, where $\\sum_{x=1}^{n} x = 1 + 2 + \\dots + n$. Evaluate the function for $n = 10$.\n",
    "\n",
    "\n",
    "2.3 (5 points) In each of these functions, add an assert statement that raises an AssertionError exception with a custom message if the value of $n$ passed to the function is negative\n"
   ]
  },
  {
   "cell_type": "markdown",
   "metadata": {},
   "source": [
    "### Solution 02"
   ]
  },
  {
   "cell_type": "code",
   "execution_count": 5,
   "metadata": {},
   "outputs": [
    {
     "name": "stdout",
     "output_type": "stream",
     "text": [
      "The result of 10 is 55\n"
     ]
    }
   ],
   "source": [
    "# Please enter your solution here \n",
    "# You can create as many new cells as you need\n",
    "def iterative_cumulative():\n",
    "    res =0\n",
    "    for i in range(1,n+1):\n",
    "        res +=i\n",
    "    print (f\"The result of {n} is {res}\")\n",
    "n=10\n",
    "iterative_cumulative()"
   ]
  },
  {
   "cell_type": "code",
   "execution_count": 25,
   "metadata": {},
   "outputs": [
    {
     "name": "stdout",
     "output_type": "stream",
     "text": [
      "The result of 10 is 55\n"
     ]
    }
   ],
   "source": [
    "def recursive_cumulative(n):\n",
    "    if n ==0:\n",
    "        return 0\n",
    "    else:\n",
    "        return n+recursive_cumulative(n-1)\n",
    "n=10\n",
    "res = recursive_cumulative(n)\n",
    "print (f\"The result of {n} is {res}\")"
   ]
  },
  {
   "cell_type": "code",
   "execution_count": 6,
   "metadata": {},
   "outputs": [
    {
     "name": "stdout",
     "output_type": "stream",
     "text": [
      "The result of 10 is 55\n"
     ]
    }
   ],
   "source": [
    "def iterative_cumulative():\n",
    "    res =0\n",
    "    assert n >=0, \"Input is wrong. Should input again.\"\n",
    "    for i in range(1,n+1):\n",
    "        res +=i\n",
    "    print (f\"The result of {n} is {res}\")\n",
    "n=10\n",
    "iterative_cumulative()"
   ]
  },
  {
   "cell_type": "code",
   "execution_count": 30,
   "metadata": {},
   "outputs": [
    {
     "name": "stdout",
     "output_type": "stream",
     "text": [
      "The result of 10 is 55\n"
     ]
    }
   ],
   "source": [
    "def recursive_cumulative(n):\n",
    "    if n ==0:\n",
    "        return 0\n",
    "    else:\n",
    "        return n+recursive_cumulative(n-1)\n",
    "n=10\n",
    "assert n >=0, \"n should be a non-negative integer.\"\n",
    "res = recursive_cumulative(n)\n",
    "print (f\"The result of {n} is {res}\")"
   ]
  },
  {
   "cell_type": "markdown",
   "metadata": {
    "id": "0j-R1LkxgITm"
   },
   "source": [
    "\n",
    "### Problem 03 (25 points)\n",
    "\n",
    "For the given text below, write a function which displays the text and returns a dictionary (please call it `char_counts`), where the dictionary maps all distinct characters of the text into the number of their occurrences in the given text. \n",
    "\n",
    "For example, `char_counts['A'] = 1` since `A` only appeared once in the word \"Avenue\".\n",
    "\n",
    "\n",
    "Finally, print the obtained dictionary `char_counts` and its length. \n",
    "\n"
   ]
  },
  {
   "cell_type": "code",
   "execution_count": 3,
   "metadata": {
    "id": "zrJkFxG9gITn"
   },
   "outputs": [],
   "source": [
    "text = \"The Center for Data Science (CDS) is the focal point for New York University’s university-wide efforts in Data Science. The Center was established in 2013 to advance NYU’s goal of creating a world-leading Data Science training and research facility, and arming researchers and professionals with the tools to harness the power of Big Data. Today, CDS counts 16 jointly appointed interdisciplinary faculty housed on two floors of our magnificent 60 5th Avenue building, one of New York City’s historic properties. It is home to a top-ranked MS in Data Science program, one of the first PhD programs in Data Science, and a new undergraduate program in Data Science, as well as a lively Fellow and Postdoctoral program. It has over 60 associate and affiliate faculty from 25 departments in 9 schools and units. With cross-disciplinary research and innovative educational programs, CDS is shaping the new field of Data Science.\"\n"
   ]
  },
  {
   "cell_type": "markdown",
   "metadata": {},
   "source": [
    "### Solution 03"
   ]
  },
  {
   "cell_type": "code",
   "execution_count": 47,
   "metadata": {},
   "outputs": [
    {
     "name": "stdout",
     "output_type": "stream",
     "text": [
      "The input text:The Center for Data Science (CDS) is the focal point for New York University’s university-wide efforts in Data Science. The Center was established in 2013 to advance NYU’s goal of creating a world-leading Data Science training and research facility, and arming researchers and professionals with the tools to harness the power of Big Data. Today, CDS counts 16 jointly appointed interdisciplinary faculty housed on two floors of our magnificent 60 5th Avenue building, one of New York City’s historic properties. It is home to a top-ranked MS in Data Science program, one of the first PhD programs in Data Science, and a new undergraduate program in Data Science, as well as a lively Fellow and Postdoctoral program. It has over 60 associate and affiliate faculty from 25 departments in 9 schools and units. With cross-disciplinary research and innovative educational programs, CDS is shaping the new field of Data Science.\n",
      "{'T': 3, 'h': 22, 'e': 73, ' ': 148, 'C': 6, 'n': 57, 't': 55, 'r': 50, 'f': 22, 'o': 56, 'D': 12, 'a': 72, 'S': 11, 'c': 33, 'i': 62, '(': 1, ')': 1, 's': 45, 'l': 26, 'p': 17, 'N': 3, 'w': 12, 'Y': 3, 'k': 3, 'U': 2, 'v': 8, 'y': 11, '’': 3, 'u': 12, '-': 4, 'd': 26, '.': 6, 'b': 2, '2': 2, '0': 3, '1': 2, '3': 1, 'g': 15, ',': 7, 'm': 10, 'B': 1, '6': 3, 'j': 1, '5': 2, 'A': 1, 'I': 2, 'M': 1, 'P': 2, 'F': 1, '9': 1, 'W': 1}, 51\n"
     ]
    }
   ],
   "source": [
    "# Please enter your solution here \n",
    "# You can create as many new cells as you need\n",
    "def text_char_counts(text):\n",
    "    char_counts={}\n",
    "    for char in text:\n",
    "        if char in char_counts:\n",
    "            char_counts[char] +=1\n",
    "        else:\n",
    "            char_counts[char] = 1\n",
    "    print(f\"The input text:{text}\")\n",
    "    print(f\"{char_counts}, {len(char_counts)}\")\n",
    "text = \"The Center for Data Science (CDS) is the focal point for New York University’s university-wide efforts in Data Science. The Center was established in 2013 to advance NYU’s goal of creating a world-leading Data Science training and research facility, and arming researchers and professionals with the tools to harness the power of Big Data. Today, CDS counts 16 jointly appointed interdisciplinary faculty housed on two floors of our magnificent 60 5th Avenue building, one of New York City’s historic properties. It is home to a top-ranked MS in Data Science program, one of the first PhD programs in Data Science, and a new undergraduate program in Data Science, as well as a lively Fellow and Postdoctoral program. It has over 60 associate and affiliate faculty from 25 departments in 9 schools and units. With cross-disciplinary research and innovative educational programs, CDS is shaping the new field of Data Science.\"\n",
    "text_char_counts(text)"
   ]
  },
  {
   "cell_type": "markdown",
   "metadata": {
    "id": "YYjUnUoegITo"
   },
   "source": [
    "### Problem 04 (40 points)\n",
    "\n",
    "4.1 (10 points) Create a custom class called `animal` which only contains the method `__init__` used to initialize three data attributes: 1) the animal's name, 2) its position along x coordinate, 3) its position along y coordinate\n",
    "\n",
    "\n",
    "4.2 (10 points) Create a custom class `dog` inherited from the class `animal`, and define a method called `distance` which calculates the distance between the position of the dog and another object in a (x,y) coordinate system\n",
    "\n",
    "\n",
    "4.3 (5 points) Create an instance of the class `dog`, give your dog a name, position your dog at location (0,0) in the (x,y) coordinate system. Create an instance of the class `animal`, give this animal the name `danger`, and position this animal at location (0.2,0.2). Invoke the method `distance`  to calculate the distance between your dog and `danger`, then print this distance.\n",
    "\n",
    "\n",
    "4.4 (10 points) Create an empty list named `trajectory`. Using a `while` loop, increment the x coordinate location of your dog by 0.1 at each step, recalculate the distance between your dog and `danger`, append this distance to the list `trajectory`, and exit the loop when this distance is larger than 0.8 units. Write the list in a file called `Dog2D.txt`\n",
    "\n",
    "\n",
    "4.5 (5 points) Everything is an object in Python. A list is an object. In 4.4, you instantiated a list called `trajectory`. Invoke a built-in Python function on this list object to calculate the smallest distance your dog was to the danger in the trajectory followed, then print this distance.\n"
   ]
  },
  {
   "cell_type": "markdown",
   "metadata": {},
   "source": [
    "### Solution 04"
   ]
  },
  {
   "cell_type": "code",
   "execution_count": 70,
   "metadata": {},
   "outputs": [],
   "source": [
    "# Please enter your solution here \n",
    "# You can create as many new cells as you need\n",
    "class Animal:\n",
    "    def __init__(self, name, x, y):\n",
    "        self.name = name\n",
    "        self.x = x\n",
    "        self.y = y\n"
   ]
  },
  {
   "cell_type": "code",
   "execution_count": 4,
   "metadata": {},
   "outputs": [],
   "source": [
    "import math\n",
    "class Animal:\n",
    "    def __init__(self, name, x, y):\n",
    "        self.name = name\n",
    "        self.x = x\n",
    "        self.y = y\n",
    "class Dog(Animal):\n",
    "    def __init__(self, name, x, y):\n",
    "        super().__init__(name, x, y)\n",
    "\n",
    "    def distance(self, other_x, other_y):\n",
    "        return math.sqrt((self.x-other_x)**2+(self.y-other_y)**2)"
   ]
  },
  {
   "cell_type": "code",
   "execution_count": 6,
   "metadata": {},
   "outputs": [
    {
     "name": "stdout",
     "output_type": "stream",
     "text": [
      "The distance between my dog and danger:  0.283\n"
     ]
    }
   ],
   "source": [
    "import math\n",
    "class Animal:\n",
    "    def __init__(self, name, x, y):\n",
    "        self.name = name\n",
    "        self.x = x\n",
    "        self.y = y\n",
    "class Dog(Animal):\n",
    "    def __init__(self, name, x, y):\n",
    "        super().__init__(name, x, y)\n",
    "\n",
    "    def distance(self, other_x, other_y):\n",
    "        return math.sqrt((self.x-other_x)**2+(self.y-other_y)**2)\n",
    "dog1 = Dog(\"puppy\", 0, 0)\n",
    "animal2 = Animal(\"Danger\", 0.2, 0.2)\n",
    "calculation_distance = dog1.distance(animal2.x,animal2.y)\n",
    "print(f\"The distance between my dog and danger: {calculation_distance: .3f}\")"
   ]
  },
  {
   "cell_type": "code",
   "execution_count": 1,
   "metadata": {},
   "outputs": [],
   "source": [
    "import math\n",
    "class Animal:\n",
    "    def __init__(self, name, x, y):\n",
    "        self.name = name\n",
    "        self.x = x\n",
    "        self.y = y\n",
    "class Dog(Animal):\n",
    "    def __init__(self, name, x, y):\n",
    "        super().__init__(name, x, y)\n",
    "\n",
    "    def distance(self, other_x, other_y):\n",
    "        return math.sqrt((self.x-other_x)**2+(self.y-other_y)**2)\n",
    "dog1 = Dog(\"puppy\", 0, 0)\n",
    "animal2 = Animal(\"Danger\", 0.2, 0.2)\n",
    "calculation_distance = dog1.distance(animal2.x,animal2.y)\n",
    "trajectory=[]\n",
    "while calculation_distance <=0.8:\n",
    "    dog1.x +=0.1\n",
    "    calculation_distance=dog1.distance(animal2.x,animal2.y)\n",
    "    trajectory.append(calculation_distance)\n",
    "with open (\"Dog2D.txt\", \"w\") as file:\n",
    "    for number in trajectory:\n",
    "        file.write(f\"{number}\\n\")"
   ]
  },
  {
   "cell_type": "code",
   "execution_count": 25,
   "metadata": {},
   "outputs": [
    {
     "name": "stdout",
     "output_type": "stream",
     "text": [
      "The smallest number of distance:0.200\n"
     ]
    }
   ],
   "source": [
    "class Animal:\n",
    "    def __init__(self, name, x, y):\n",
    "        self.name = name\n",
    "        self.x = x\n",
    "        self.y = y\n",
    "class Dog(Animal):\n",
    "    def __init__(self, name, x, y):\n",
    "        super().__init__(name, x, y)\n",
    "\n",
    "    def distance(self, other_x, other_y):\n",
    "        return math.sqrt((self.x-other_x)**2+(self.y-other_y)**2)\n",
    "dog1 = Dog(\"puppy\", 0, 0)\n",
    "animal2 = Animal(\"Danger\", 0.2, 0.2)\n",
    "calculation_distance = dog1.distance(animal2.x,animal2.y)\n",
    "trajectory=[]\n",
    "while calculation_distance <=0.8:\n",
    "    dog1.x +=0.1\n",
    "    calculation_distance=dog1.distance(animal2.x,animal2.y)\n",
    "    trajectory.append(calculation_distance)\n",
    "print(f\"The smallest number of distance:{min(trajectory):.3f}\")"
   ]
  }
 ],
 "metadata": {
  "colab": {
   "provenance": []
  },
  "kernelspec": {
   "display_name": "Python 3 (ipykernel)",
   "language": "python",
   "name": "python3"
  },
  "language_info": {
   "codemirror_mode": {
    "name": "ipython",
    "version": 3
   },
   "file_extension": ".py",
   "mimetype": "text/x-python",
   "name": "python",
   "nbconvert_exporter": "python",
   "pygments_lexer": "ipython3",
   "version": "3.12.4"
  }
 },
 "nbformat": 4,
 "nbformat_minor": 1
}
